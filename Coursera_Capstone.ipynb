{
 "cells": [
  {
   "cell_type": "markdown",
   "metadata": {},
   "source": [
    "## Coursera Capstone Project"
   ]
  },
  {
   "cell_type": "code",
   "execution_count": 1,
   "metadata": {},
   "outputs": [],
   "source": [
    "import pandas as pd\n",
    "import numpy as np\n"
   ]
  },
  {
   "cell_type": "code",
   "execution_count": 2,
   "metadata": {},
   "outputs": [],
   "source": [
    "## hidden\n",
    "CLIENT_ID = \"YIOJTSFKMWE35RORHMBN0AMLFEEGDU4C4KGH3M3VHDRTL43L\"\n",
    "CLIENT_SECRET = \"FVH0DHE5M11DHG2TV2XMVGOL2OKAOMXW1DEATV33RAZKVSLH\"\n",
    "LIMIT=10"
   ]
  },
  {
   "cell_type": "code",
   "execution_count": 3,
   "metadata": {},
   "outputs": [],
   "source": [
    "FOUR_SQUARE_SEARCH_URL = \"https://api.foursquare.com/v2/venues/search?client_id={}&client_secret={}&v=20180602\".format(CLIENT_ID, CLIENT_SECRET)\n",
    "FOUR_SQUARE_EXPLORE_URL = \"https://api.foursquare.com/v2/venues/explore?client_id={}&client_secret={}&v=20180602&limit={}\".format(CLIENT_ID, CLIENT_SECRET, LIMIT)\n",
    "\n"
   ]
  },
  {
   "cell_type": "code",
   "execution_count": 5,
   "metadata": {},
   "outputs": [
    {
     "data": {
      "text/plain": [
       "'https://api.foursquare.com/v2/venues/search?client_id=YIOJTSFKMWE35RORHMBN0AMLFEEGDU4C4KGH3M3VHDRTL43L&client_secret=FVH0DHE5M11DHG2TV2XMVGOL2OKAOMXW1DEATV33RAZKVSLH&v=20180602&ll=40.73,-74.01&query=coffee'"
      ]
     },
     "execution_count": 5,
     "metadata": {},
     "output_type": "execute_result"
    }
   ],
   "source": [
    "lat=40.73\n",
    "long = -74.01\n",
    "query = \"coffee\"\n",
    "\n",
    "params = \"&ll={},{}&query={}\".format(lat, long, query)\n",
    "\n",
    "url = FOUR_SQUARE_SEARCH_URL + params\n",
    "url"
   ]
  },
  {
   "cell_type": "code",
   "execution_count": 15,
   "metadata": {},
   "outputs": [
    {
     "name": "stdout",
     "output_type": "stream",
     "text": [
      "Collecting wget\n",
      "  Downloading https://files.pythonhosted.org/packages/47/6a/62e288da7bcda82b935ff0c6cfe542970f04e29c756b0e147251b2fb251f/wget-3.2.zip\n",
      "Building wheels for collected packages: wget\n",
      "  Building wheel for wget (setup.py) ... \u001b[?25ldone\n",
      "\u001b[?25h  Stored in directory: /home/jupyterlab/.cache/pip/wheels/40/15/30/7d8f7cea2902b4db79e3fea550d7d7b85ecb27ef992b618f3f\n",
      "Successfully built wget\n",
      "Installing collected packages: wget\n",
      "Successfully installed wget-3.2\n"
     ]
    }
   ],
   "source": [
    "# !pip install wget"
   ]
  },
  {
   "cell_type": "code",
   "execution_count": 17,
   "metadata": {},
   "outputs": [
    {
     "data": {
      "text/plain": [
       "'venues.json'"
      ]
     },
     "execution_count": 17,
     "metadata": {},
     "output_type": "execute_result"
    }
   ],
   "source": [
    "import wget\n",
    "wget.download(url, \"venues.json\")\n"
   ]
  }
 ],
 "metadata": {
  "kernelspec": {
   "display_name": "Python",
   "language": "python",
   "name": "conda-env-python-py"
  },
  "language_info": {
   "codemirror_mode": {
    "name": "ipython",
    "version": 3
   },
   "file_extension": ".py",
   "mimetype": "text/x-python",
   "name": "python",
   "nbconvert_exporter": "python",
   "pygments_lexer": "ipython3",
   "version": "3.6.12"
  }
 },
 "nbformat": 4,
 "nbformat_minor": 4
}
